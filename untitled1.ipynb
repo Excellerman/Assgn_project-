{
  "nbformat": 4,
  "nbformat_minor": 0,
  "metadata": {
    "colab": {
      "provenance": [],
      "authorship_tag": "ABX9TyOa7GMAcb675zArvodK81Bu",
      "include_colab_link": true
    },
    "kernelspec": {
      "name": "python3",
      "display_name": "Python 3"
    },
    "language_info": {
      "name": "python"
    }
  },
  "cells": [
    {
      "cell_type": "markdown",
      "metadata": {
        "id": "view-in-github",
        "colab_type": "text"
      },
      "source": [
        "<a href=\"https://colab.research.google.com/github/Excellerman/Assgn_project-/blob/master/untitled1.ipynb\" target=\"_parent\"><img src=\"https://colab.research.google.com/assets/colab-badge.svg\" alt=\"Open In Colab\"/></a>"
      ]
    },
    {
      "cell_type": "code",
      "execution_count": null,
      "metadata": {
        "colab": {
          "base_uri": "https://localhost:8080/"
        },
        "id": "UHFRqDS_1rA5",
        "outputId": "bbd63ccf-0dff-4504-9bc5-7e168c46cf60"
      },
      "outputs": [
        {
          "output_type": "stream",
          "name": "stdout",
          "text": [
            "30\n"
          ]
        }
      ],
      "source": [
        "age = 20\n",
        "age = 30\n",
        "print(age)"
      ]
    },
    {
      "cell_type": "code",
      "source": [
        "# Create a dictionary to store the patient's information\n",
        "patient = {\n",
        "    \"name\": \"John Smith\",\n",
        "    \"age\": 20,\n",
        "    \"status\": \"new\"\n",
        "}\n",
        "\n",
        "# Print the patient's information\n",
        "print(f\"Patient Name: {patient['name']}\")\n",
        "print(f\"Patient Age: {patient['age']}\")\n",
        "print(f\"Patient Status: {patient['status']}\")"
      ],
      "metadata": {
        "colab": {
          "base_uri": "https://localhost:8080/"
        },
        "id": "NbAZwjGzZ4NM",
        "outputId": "b368c050-0d5f-4e39-90a7-b7905ca88c30"
      },
      "execution_count": null,
      "outputs": [
        {
          "output_type": "stream",
          "name": "stdout",
          "text": [
            "Patient Name: John Smith\n",
            "Patient Age: 20\n",
            "Patient Status: new\n"
          ]
        }
      ]
    },
    {
      "cell_type": "code",
      "source": [
        "name = input (\"What is your n ame? \")\n",
        "print(\"hello \" + name)"
      ],
      "metadata": {
        "colab": {
          "base_uri": "https://localhost:8080/"
        },
        "id": "sZjNIKACdUp4",
        "outputId": "f502478f-6bbb-4aed-93f5-69e8f775d2bf"
      },
      "execution_count": null,
      "outputs": [
        {
          "output_type": "stream",
          "name": "stdout",
          "text": [
            "What is your n ame? John Smith\n",
            "hello John Smith\n"
          ]
        }
      ]
    },
    {
      "cell_type": "code",
      "source": [
        "birth_year = input(\"Enter your birth year: \")\n",
        "age = 2024 - int(birth_year)\n",
        "print(age)"
      ],
      "metadata": {
        "colab": {
          "base_uri": "https://localhost:8080/"
        },
        "id": "_Sq417c8ewy5",
        "outputId": "a95c5be5-0cac-4b25-aa66-240dedd09a9d"
      },
      "execution_count": null,
      "outputs": [
        {
          "output_type": "stream",
          "name": "stdout",
          "text": [
            "Enter your birth year: 1980\n",
            "44\n"
          ]
        }
      ]
    },
    {
      "cell_type": "code",
      "source": [
        "first = int(10)\n",
        "second = int(20)\n",
        "sum = (first + second)\n",
        "print(sum)"
      ],
      "metadata": {
        "colab": {
          "base_uri": "https://localhost:8080/"
        },
        "id": "JTuOGtFwg36E",
        "outputId": "bfdf18a1-f975-4d75-b3d1-fd74c94fe608"
      },
      "execution_count": null,
      "outputs": [
        {
          "output_type": "stream",
          "name": "stdout",
          "text": [
            "30\n"
          ]
        }
      ]
    },
    {
      "cell_type": "code",
      "source": [
        "first = float(10.5)\n",
        "second = float(20)\n",
        "sum = (first + second)\n",
        "print(sum)"
      ],
      "metadata": {
        "colab": {
          "base_uri": "https://localhost:8080/"
        },
        "id": "fPEPQJ4FlTy1",
        "outputId": "ba698ebe-3d59-4aed-d280-212a4eb0ca0a"
      },
      "execution_count": null,
      "outputs": [
        {
          "output_type": "stream",
          "name": "stdout",
          "text": [
            "30.5\n"
          ]
        }
      ]
    },
    {
      "cell_type": "code",
      "source": [
        "\n",
        "first = input(\"first: \")\n",
        "second = input(\"second: \")\n",
        "sum = int(first) + int(second)\n",
        "print(sum)"
      ],
      "metadata": {
        "colab": {
          "base_uri": "https://localhost:8080/"
        },
        "id": "_0FWHh3el7X0",
        "outputId": "6aba6533-55fb-4fca-9ab0-d8830d4322e2"
      },
      "execution_count": null,
      "outputs": [
        {
          "output_type": "stream",
          "name": "stdout",
          "text": [
            "first: 15\n",
            "second: 10\n",
            "25\n"
          ]
        }
      ]
    },
    {
      "cell_type": "code",
      "source": [
        "first = input(\"first: \")\n",
        "second = input(\"second: \")\n",
        "sum = float(first) + float(second)\n",
        "print(sum)"
      ],
      "metadata": {
        "colab": {
          "base_uri": "https://localhost:8080/"
        },
        "id": "nH4wqGKTmZkc",
        "outputId": "c9486e0e-9a60-4050-ad31-75f023b03016"
      },
      "execution_count": null,
      "outputs": [
        {
          "output_type": "stream",
          "name": "stdout",
          "text": [
            "first: 10.5\n",
            "second: 5.7\n",
            "16.2\n"
          ]
        }
      ]
    },
    {
      "cell_type": "code",
      "source": [],
      "metadata": {
        "id": "d1GuK9mmnvJl"
      },
      "execution_count": null,
      "outputs": []
    },
    {
      "cell_type": "code",
      "source": [
        "first = input(\"first: \")\n",
        "second = input(\"second: \")\n",
        "sum = float(first) + float(second)\n",
        "print(sum)"
      ],
      "metadata": {
        "colab": {
          "base_uri": "https://localhost:8080/"
        },
        "outputId": "c9486e0e-9a60-4050-ad31-75f023b03016",
        "id": "7LSwo-xAogH0"
      },
      "execution_count": null,
      "outputs": [
        {
          "output_type": "stream",
          "name": "stdout",
          "text": [
            "first: 10.5\n",
            "second: 5.7\n",
            "16.2\n"
          ]
        }
      ]
    },
    {
      "cell_type": "code",
      "source": [],
      "metadata": {
        "id": "gc5UzIFxolzw"
      },
      "execution_count": null,
      "outputs": []
    },
    {
      "cell_type": "code",
      "source": [
        "first = input(\"first: \")\n",
        "second = input(\"second: \")\n",
        "sum = float(first) + float(second)\n",
        "print(\"sum: \" + str(sum))"
      ],
      "metadata": {
        "colab": {
          "base_uri": "https://localhost:8080/"
        },
        "outputId": "941a83bd-5540-4969-b3c9-ac7b8ae6481c",
        "id": "rPa_tNh1omgt"
      },
      "execution_count": null,
      "outputs": [
        {
          "output_type": "stream",
          "name": "stdout",
          "text": [
            "first: 10\n",
            "second: 5.5\n",
            "sum: 15.5\n"
          ]
        }
      ]
    },
    {
      "cell_type": "code",
      "source": [
        "first = float(input(\"first: \"))\n",
        "second = float(input(\"second: \"))\n",
        "sum = first + second\n",
        "print(sum)"
      ],
      "metadata": {
        "colab": {
          "base_uri": "https://localhost:8080/"
        },
        "id": "ekoaF__Xoq-n",
        "outputId": "e24f858b-b9c8-4e17-8d87-871f04cc9517"
      },
      "execution_count": null,
      "outputs": [
        {
          "output_type": "stream",
          "name": "stdout",
          "text": [
            "first: 10\n",
            "second: 5.5\n",
            "15.5\n"
          ]
        }
      ]
    },
    {
      "cell_type": "code",
      "source": [],
      "metadata": {
        "id": "DphWYmVIvRIZ"
      },
      "execution_count": null,
      "outputs": []
    },
    {
      "cell_type": "code",
      "source": [
        "first = float(input(\"first: \"))\n",
        "second = float(input(\"second: \"))\n",
        "sum = first + second\n",
        "print(\"sum: \" + str(sum))"
      ],
      "metadata": {
        "colab": {
          "base_uri": "https://localhost:8080/"
        },
        "outputId": "5ed31ccb-0009-4728-eee9-b89e75703897",
        "id": "mDRJnTC1wc_r"
      },
      "execution_count": null,
      "outputs": [
        {
          "output_type": "stream",
          "name": "stdout",
          "text": [
            "first: 5\n",
            "second: 5.5\n",
            "sum: 10.5\n"
          ]
        }
      ]
    },
    {
      "cell_type": "markdown",
      "source": [
        "string in python"
      ],
      "metadata": {
        "id": "HIXzun3IUaTr"
      }
    },
    {
      "cell_type": "code",
      "source": [
        "course = 'python for beginners'\n",
        "print(course)"
      ],
      "metadata": {
        "colab": {
          "base_uri": "https://localhost:8080/"
        },
        "id": "jhIqH9gjwqFy",
        "outputId": "b4b7f83b-0772-4028-a6ac-80791beb5d08"
      },
      "execution_count": null,
      "outputs": [
        {
          "output_type": "stream",
          "name": "stdout",
          "text": [
            "python for beginners\n"
          ]
        }
      ]
    },
    {
      "cell_type": "code",
      "source": [
        "course = 'python for beginners'\n",
        "print(course.upper())\n",
        "print(course.lower())\n"
      ],
      "metadata": {
        "colab": {
          "base_uri": "https://localhost:8080/"
        },
        "outputId": "544798a8-00f4-42e1-e97a-b6a595379e99",
        "id": "tG3eBnjMV9WL"
      },
      "execution_count": null,
      "outputs": [
        {
          "output_type": "stream",
          "name": "stdout",
          "text": [
            "PYTHON FOR BEGINNERS\n",
            "python for beginners\n"
          ]
        }
      ]
    },
    {
      "cell_type": "code",
      "source": [
        "course = 'python for beginners'\n",
        "print(course.find('y'))"
      ],
      "metadata": {
        "colab": {
          "base_uri": "https://localhost:8080/"
        },
        "id": "8z-CnBiDWji1",
        "outputId": "bb1d63af-842d-4e90-c45d-f1cd9e7eeb87"
      },
      "execution_count": null,
      "outputs": [
        {
          "output_type": "stream",
          "name": "stdout",
          "text": [
            "1\n"
          ]
        }
      ]
    },
    {
      "cell_type": "code",
      "source": [
        "course = 'python for beginners'\n",
        "print(course.replace('for', '4'))"
      ],
      "metadata": {
        "colab": {
          "base_uri": "https://localhost:8080/"
        },
        "id": "2zxiiE37XEpe",
        "outputId": "c1300a79-506f-4bb3-fe97-946b55193533"
      },
      "execution_count": null,
      "outputs": [
        {
          "output_type": "stream",
          "name": "stdout",
          "text": [
            "python 4 beginners\n"
          ]
        }
      ]
    },
    {
      "cell_type": "code",
      "source": [
        "## IN operator in python ##\n",
        "course = 'python for beginners'\n",
        "print('python' in course)"
      ],
      "metadata": {
        "colab": {
          "base_uri": "https://localhost:8080/"
        },
        "id": "pWdjmD3aduOy",
        "outputId": "38b8e7fa-57b8-4275-9f81-7fab32e75f5d"
      },
      "execution_count": null,
      "outputs": [
        {
          "output_type": "stream",
          "name": "stdout",
          "text": [
            "True\n"
          ]
        }
      ]
    },
    {
      "cell_type": "code",
      "source": [],
      "metadata": {
        "id": "ksesyfkXekeW"
      },
      "execution_count": null,
      "outputs": []
    },
    {
      "cell_type": "code",
      "source": [
        "## IN operator in python ##\n",
        "course = 'python for beginners'\n",
        "print('hussain' in course)"
      ],
      "metadata": {
        "colab": {
          "base_uri": "https://localhost:8080/"
        },
        "outputId": "429552e6-831e-4fa3-bf8e-462e8305c0d9",
        "id": "qFlC-nHKetIz"
      },
      "execution_count": null,
      "outputs": [
        {
          "output_type": "stream",
          "name": "stdout",
          "text": [
            "False\n"
          ]
        }
      ]
    },
    {
      "cell_type": "markdown",
      "source": [
        "Arithmetic Operator in python"
      ],
      "metadata": {
        "id": "bYi5JSFce3Zb"
      }
    },
    {
      "cell_type": "code",
      "source": [
        "## Addition in pythonb ##\n",
        "## Subtraction in python ##\n",
        "## Division in python ##\n",
        "print(10 + 5)\n",
        "print(20-5)\n",
        "print(25/5)\n",
        "print(25//5)\n"
      ],
      "metadata": {
        "colab": {
          "base_uri": "https://localhost:8080/"
        },
        "id": "akbiLjIxexPv",
        "outputId": "2a685fb8-61da-4120-e31e-c6076264b075"
      },
      "execution_count": null,
      "outputs": [
        {
          "output_type": "stream",
          "name": "stdout",
          "text": [
            "15\n",
            "15\n",
            "5.0\n",
            "5\n"
          ]
        }
      ]
    },
    {
      "cell_type": "markdown",
      "source": [
        "Augmented assignment operator"
      ],
      "metadata": {
        "id": "MLQzMzVwkRN7"
      }
    },
    {
      "cell_type": "code",
      "source": [
        "X = 10\n",
        "X = X + 10\n",
        "print(X)"
      ],
      "metadata": {
        "colab": {
          "base_uri": "https://localhost:8080/"
        },
        "id": "4IuNmFqzfg4g",
        "outputId": "284ccceb-0665-4319-a005-c665074fcc0e"
      },
      "execution_count": null,
      "outputs": [
        {
          "output_type": "stream",
          "name": "stdout",
          "text": [
            "20\n"
          ]
        }
      ]
    },
    {
      "cell_type": "code",
      "source": [
        "x = 10\n",
        "x -= 5\n",
        "print(x)"
      ],
      "metadata": {
        "colab": {
          "base_uri": "https://localhost:8080/"
        },
        "id": "BS7TvJ0OfrBR",
        "outputId": "2d422f0a-8005-427c-d9f1-ab619bd7bd74"
      },
      "execution_count": null,
      "outputs": [
        {
          "output_type": "stream",
          "name": "stdout",
          "text": [
            "5\n"
          ]
        }
      ]
    },
    {
      "cell_type": "code",
      "source": [
        "x = 10\n",
        "x *= 5\n",
        "print(x)\n",
        "x **= 10\n",
        "print(x)"
      ],
      "metadata": {
        "colab": {
          "base_uri": "https://localhost:8080/"
        },
        "id": "B4nbyE4UfKeQ",
        "outputId": "4cfebf14-3122-4052-c35d-173ee9c60758"
      },
      "execution_count": null,
      "outputs": [
        {
          "output_type": "stream",
          "name": "stdout",
          "text": [
            "50\n",
            "97656250000000000\n"
          ]
        }
      ]
    },
    {
      "cell_type": "code",
      "source": [
        "x = 10 + 3 * 2\n",
        "print(x)\n",
        "x = (10 + 3) * 2\n",
        "print(x)"
      ],
      "metadata": {
        "colab": {
          "base_uri": "https://localhost:8080/"
        },
        "id": "lvNRSxpqjxr0",
        "outputId": "82f9c0a7-a13c-4745-e12a-b3c81f90939b"
      },
      "execution_count": null,
      "outputs": [
        {
          "output_type": "stream",
          "name": "stdout",
          "text": [
            "16\n",
            "26\n"
          ]
        }
      ]
    },
    {
      "cell_type": "markdown",
      "source": [
        "Comparison operators in python.\n",
        "comparison operators areb used to compare values"
      ],
      "metadata": {
        "id": "DPQp7OGhmUIA"
      }
    },
    {
      "cell_type": "code",
      "source": [
        "x = 3 > 2\n",
        "print(x)\n",
        "x= 3 >= 2\n",
        "print(x)\n",
        "x = 3 <= 2\n",
        "print(x)\n",
        "x = 3 == 2\n",
        "print(x)\n",
        "x = 3 != 2\n",
        "print(x)"
      ],
      "metadata": {
        "colab": {
          "base_uri": "https://localhost:8080/"
        },
        "id": "LrrYO-yLl1BC",
        "outputId": "c47d1c96-512c-4df5-d5d4-971a5e1a8a4d"
      },
      "execution_count": null,
      "outputs": [
        {
          "output_type": "stream",
          "name": "stdout",
          "text": [
            "True\n",
            "True\n",
            "False\n",
            "False\n",
            "True\n"
          ]
        }
      ]
    },
    {
      "cell_type": "code",
      "source": [
        "## comparison operators in python ##\n",
        "## < greater than\n",
        "## <= greater than or equals to\n",
        "## > lass than\n",
        "## > less than or equals to\n",
        "## == equal\n",
        "## != not equal"
      ],
      "metadata": {
        "id": "3xSWieMQmx0c"
      },
      "execution_count": null,
      "outputs": []
    },
    {
      "cell_type": "markdown",
      "source": [
        "Logical operators in python. its used to build complex  rules and condition\n"
      ],
      "metadata": {
        "id": "xEcn7bLloUsr"
      }
    },
    {
      "cell_type": "code",
      "source": [
        "##  using AND, OR, NOT operators ##\n",
        "price = 25\n",
        "print(price > 10 and price < 30)\n",
        "price = 5\n",
        "print(price > 10 or price < 30)\n",
        "price = 5\n",
        "print(not price > 10 )"
      ],
      "metadata": {
        "colab": {
          "base_uri": "https://localhost:8080/"
        },
        "id": "KnPZBa2aod0k",
        "outputId": "d6035a73-cb24-474d-9f4e-58969b9769df"
      },
      "execution_count": null,
      "outputs": [
        {
          "output_type": "stream",
          "name": "stdout",
          "text": [
            "True\n",
            "True\n",
            "True\n"
          ]
        }
      ]
    },
    {
      "cell_type": "code",
      "source": [
        "## we have 3 logical operators expression ##\n",
        "## AND (both) if both is True\n",
        "## OR (at least one) if one is True\n",
        "## NOT which inverses any value that we give it"
      ],
      "metadata": {
        "id": "6ha6dkiYo01E"
      },
      "execution_count": null,
      "outputs": []
    },
    {
      "cell_type": "markdown",
      "source": [],
      "metadata": {
        "id": "l5fd3SB4r4Hb"
      }
    },
    {
      "cell_type": "markdown",
      "source": [
        "iF STATEMENT in python. We use IF STATEMENT to make decisionsin our program"
      ],
      "metadata": {
        "id": "eNPMITkrrpfg"
      }
    },
    {
      "cell_type": "code",
      "source": [
        "temperature = 35\n",
        "\n",
        "if temperature  > 30:\n",
        "  print(\"it's a hot day\")\n",
        "  print(\"drink plenty of water\")\n"
      ],
      "metadata": {
        "colab": {
          "base_uri": "https://localhost:8080/"
        },
        "id": "uXFXC31Xr5u9",
        "outputId": "ced66194-c759-46f0-fced-32c1fd0ce29a"
      },
      "execution_count": null,
      "outputs": [
        {
          "output_type": "stream",
          "name": "stdout",
          "text": [
            "it's a hot day\n",
            "drink plenty of water\n"
          ]
        }
      ]
    },
    {
      "cell_type": "code",
      "source": [
        "temperature = 25\n",
        "\n",
        "if temperature  > 30:\n",
        "  print(\"it's a hot day\")\n",
        "  print(\"drink plenty of water\")\n"
      ],
      "metadata": {
        "id": "iZXDZmY2s7bl"
      },
      "execution_count": null,
      "outputs": []
    },
    {
      "cell_type": "code",
      "source": [
        "temperature = 25\n",
        "\n",
        "if temperature  > 30:\n",
        "  print(\"it's a hot day\")\n",
        "  print(\"drink plenty of water\")\n",
        "print(\"done\")\n"
      ],
      "metadata": {
        "colab": {
          "base_uri": "https://localhost:8080/"
        },
        "id": "vsC7R3F2twAp",
        "outputId": "923d8d34-b177-47fb-d546-b44b8de8c25c"
      },
      "execution_count": null,
      "outputs": [
        {
          "output_type": "stream",
          "name": "stdout",
          "text": [
            "done\n"
          ]
        }
      ]
    },
    {
      "cell_type": "code",
      "source": [
        "temperature = 25\n",
        "\n",
        "if temperature  > 30:\n",
        "  print(\"it's a hot day\")\n",
        "  print(\"drink plenty of water\")\n",
        "elif temperature > 20: # (20, 30]\n",
        "  print(\"it's a nice day\")\n",
        "print(\"done\")"
      ],
      "metadata": {
        "colab": {
          "base_uri": "https://localhost:8080/"
        },
        "outputId": "f14bce2f-e897-4faf-a96d-04c29d6a21bc",
        "id": "MrDVXdz-vZkp"
      },
      "execution_count": null,
      "outputs": [
        {
          "output_type": "stream",
          "name": "stdout",
          "text": [
            "it's a nice day\n",
            "done\n"
          ]
        }
      ]
    },
    {
      "cell_type": "code",
      "source": [
        "temperature = 25\n",
        "\n",
        "if temperature  > 30:\n",
        "  print(\"it's hot\")\n",
        "elif temperature > 10: # (10, 20)\n",
        "  print(\"it's a cold day\")\n",
        "else:\n",
        "  print(\"it's cold\")\n",
        "print(\"done\")"
      ],
      "metadata": {
        "colab": {
          "base_uri": "https://localhost:8080/"
        },
        "id": "yHj3C6bPv84m",
        "outputId": "015a0b78-7fe9-49b7-ffb9-7aafcdc068f3"
      },
      "execution_count": null,
      "outputs": [
        {
          "output_type": "stream",
          "name": "stdout",
          "text": [
            "it's a cold day\n",
            "done\n"
          ]
        }
      ]
    },
    {
      "cell_type": "code",
      "source": [
        "input(\"weight: \")\n"
      ],
      "metadata": {
        "id": "8vEdK3gtx8nV"
      },
      "execution_count": null,
      "outputs": []
    },
    {
      "cell_type": "code",
      "source": [],
      "metadata": {
        "id": "vOfi24hVy8CN"
      },
      "execution_count": null,
      "outputs": []
    }
  ]
}