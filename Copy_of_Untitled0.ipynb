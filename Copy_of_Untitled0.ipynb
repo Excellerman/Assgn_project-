{
  "nbformat": 4,
  "nbformat_minor": 0,
  "metadata": {
    "colab": {
      "provenance": [],
      "authorship_tag": "ABX9TyN7rvOUAyCpQdMRxAgA8TWJ",
      "include_colab_link": true
    },
    "kernelspec": {
      "name": "python3",
      "display_name": "Python 3"
    },
    "language_info": {
      "name": "python"
    }
  },
  "cells": [
    {
      "cell_type": "markdown",
      "metadata": {
        "id": "view-in-github",
        "colab_type": "text"
      },
      "source": [
        "<a href=\"https://colab.research.google.com/github/Excellerman/Assgn_project-/blob/master/Copy_of_Untitled0.ipynb\" target=\"_parent\"><img src=\"https://colab.research.google.com/assets/colab-badge.svg\" alt=\"Open In Colab\"/></a>"
      ]
    },
    {
      "cell_type": "code",
      "execution_count": null,
      "metadata": {
        "colab": {
          "base_uri": "https://localhost:8080/"
        },
        "id": "eRPsDJ2tjwq7",
        "outputId": "4b570395-e3a1-4e8e-f558-4831a3a63891"
      },
      "outputs": [
        {
          "output_type": "stream",
          "name": "stdout",
          "text": [
            "hello world\n"
          ]
        }
      ],
      "source": [
        "# prompt: \"hello world\"\n",
        "\n",
        "print(\"hello world\")\n"
      ]
    },
    {
      "cell_type": "markdown",
      "source": [],
      "metadata": {
        "id": "lQ323m90lnJE"
      }
    },
    {
      "cell_type": "code",
      "source": [
        "\"hello world\""
      ],
      "metadata": {
        "colab": {
          "base_uri": "https://localhost:8080/",
          "height": 35
        },
        "id": "Mtj_Mj_Dlrgy",
        "outputId": "aadb3010-ed65-45ec-d3cb-795299797d07"
      },
      "execution_count": null,
      "outputs": [
        {
          "output_type": "execute_result",
          "data": {
            "text/plain": [
              "'hello world'"
            ],
            "application/vnd.google.colaboratory.intrinsic+json": {
              "type": "string"
            }
          },
          "metadata": {},
          "execution_count": 2
        }
      ]
    },
    {
      "cell_type": "code",
      "source": [
        "\"hello world\"\n",
        "print (\"hello world\")"
      ],
      "metadata": {
        "colab": {
          "base_uri": "https://localhost:8080/"
        },
        "id": "x2xu0eG6luc5",
        "outputId": "852a8c1a-69c8-47f0-b05d-1c049ca74be7"
      },
      "execution_count": null,
      "outputs": [
        {
          "output_type": "stream",
          "name": "stdout",
          "text": [
            "hello world\n"
          ]
        }
      ]
    },
    {
      "cell_type": "code",
      "source": [
        "\n",
        "print (\"hello world\")\n",
        "print (\"hello world\")\n",
        "print (\"hello world\")\n",
        "print (\"hello world\")\n",
        "print (\"hello world\")\n",
        "print (\"hello world\")"
      ],
      "metadata": {
        "colab": {
          "base_uri": "https://localhost:8080/"
        },
        "id": "rGwu5Agul_6O",
        "outputId": "93429a3b-3584-4426-ab81-02b3401c3c4b"
      },
      "execution_count": null,
      "outputs": [
        {
          "output_type": "stream",
          "name": "stdout",
          "text": [
            "hello world\n",
            "hello world\n",
            "hello world\n",
            "hello world\n",
            "hello world\n",
            "hello world\n"
          ]
        }
      ]
    },
    {
      "cell_type": "code",
      "source": [
        "print (\"hello world /nhello world /nhello world /nhello world\")"
      ],
      "metadata": {
        "colab": {
          "base_uri": "https://localhost:8080/"
        },
        "id": "EwLVUzsjqOxd",
        "outputId": "f99d01f2-f39c-4692-bf56-71403635a04c"
      },
      "execution_count": null,
      "outputs": [
        {
          "output_type": "stream",
          "name": "stdout",
          "text": [
            "hello world /nhello world /nhello world /nhello world\n"
          ]
        }
      ]
    },
    {
      "cell_type": "code",
      "source": [
        "print (\"hello world \\nhello world \\nhello world \\nhello world\")"
      ],
      "metadata": {
        "colab": {
          "base_uri": "https://localhost:8080/"
        },
        "id": "TH07IxEWqunx",
        "outputId": "cbb5b3ef-5276-469d-b18f-0e982ec76d1b"
      },
      "execution_count": null,
      "outputs": [
        {
          "output_type": "stream",
          "name": "stdout",
          "text": [
            "hello world \n",
            "hello world \n",
            "hello world \n",
            "hello world\n"
          ]
        }
      ]
    },
    {
      "cell_type": "code",
      "source": [
        "print (\"hello ali akinfenwa \\nhello sherief \\nhello abdul samad \\nhello victor\")"
      ],
      "metadata": {
        "colab": {
          "base_uri": "https://localhost:8080/"
        },
        "id": "EWXCvypZr4qc",
        "outputId": "dc988d4d-c29b-4f75-a02f-35d0c26a0eb7"
      },
      "execution_count": null,
      "outputs": [
        {
          "output_type": "stream",
          "name": "stdout",
          "text": [
            "hello ali akinfenwa \n",
            "hello sherief \n",
            "hello abdul samad \n",
            "hello victor\n"
          ]
        }
      ]
    },
    {
      "cell_type": "code",
      "source": [
        "print (\"hello\"+\" \"+\"world\")"
      ],
      "metadata": {
        "colab": {
          "base_uri": "https://localhost:8080/"
        },
        "id": "1bf-oxSYtLDr",
        "outputId": "2f9bbc43-48bd-44fd-d7e0-0236b4093aac"
      },
      "execution_count": null,
      "outputs": [
        {
          "output_type": "stream",
          "name": "stdout",
          "text": [
            "hello world\n"
          ]
        }
      ]
    },
    {
      "cell_type": "code",
      "source": [
        "input (\"what is your name?\")"
      ],
      "metadata": {
        "colab": {
          "base_uri": "https://localhost:8080/",
          "height": 52
        },
        "id": "RzD7W5Ggt9Da",
        "outputId": "ff8540eb-538b-4a1b-e691-6fd7e33a6eb6"
      },
      "execution_count": null,
      "outputs": [
        {
          "name": "stdout",
          "output_type": "stream",
          "text": [
            "what is your nameHussain\n"
          ]
        },
        {
          "output_type": "execute_result",
          "data": {
            "text/plain": [
              "'Hussain'"
            ],
            "application/vnd.google.colaboratory.intrinsic+json": {
              "type": "string"
            }
          },
          "metadata": {},
          "execution_count": 13
        }
      ]
    },
    {
      "cell_type": "code",
      "source": [
        "print (\"hello \"+input(\"what is my name?\"))"
      ],
      "metadata": {
        "colab": {
          "base_uri": "https://localhost:8080/"
        },
        "id": "uayaCZW5wiFQ",
        "outputId": "eddb54c6-922e-437d-caa2-ea601a30e78e"
      },
      "execution_count": null,
      "outputs": [
        {
          "output_type": "stream",
          "name": "stdout",
          "text": [
            "what is my name?Hussain\n",
            "hello Hussain\n"
          ]
        }
      ]
    },
    {
      "cell_type": "code",
      "source": [],
      "metadata": {
        "id": "ZfHhCQTqysa9"
      },
      "execution_count": null,
      "outputs": []
    },
    {
      "cell_type": "code",
      "source": [
        "print(\"Day 1 - String Manipulation\")\n",
        "print ('String Concatenation is doe with the \"+\" sign.')\n",
        "print ('e.g print(\"Hello \" + \"world)')\n",
        "print ((\"New lines can be created with a baclash and n \\n\"))"
      ],
      "metadata": {
        "colab": {
          "base_uri": "https://localhost:8080/"
        },
        "id": "OrRAvoaNxiaC",
        "outputId": "b9ee091f-e7e1-4358-d003-dec129c53404"
      },
      "execution_count": null,
      "outputs": [
        {
          "output_type": "stream",
          "name": "stdout",
          "text": [
            "Day 1 - String Manipulation\n",
            "String Concatenation is doe with the \"+\" sign.\n",
            "e.g print(\"Hello \" + \"world)\n",
            "New lines can be created with a baclash and n \n",
            "\n"
          ]
        }
      ]
    },
    {
      "cell_type": "code",
      "source": [
        "Age = input(\"what is your age?\")\n",
        "New_age = int(Age) + (5)\n",
        "print (f\"My age was {Age} 5 years ago, I am now {New_age} years old\")\n",
        "print (\"My age was \"+ str(Age) + \" 5 years ago, I am now \" +str(New_age) +\" years old\")\n",
        "print (f\"My age was {Age} 5 years ago, I am now {str(New_age)} years old\")"
      ],
      "metadata": {
        "id": "CtdiCSvrz8qS",
        "colab": {
          "base_uri": "https://localhost:8080/"
        },
        "outputId": "f59e6dd8-3042-4e2e-c5b8-4c0c8bf2403e"
      },
      "execution_count": 12,
      "outputs": [
        {
          "output_type": "stream",
          "name": "stdout",
          "text": [
            "what is your age? 15\n",
            "My age was  15 5 years ago, I am now 20 years old\n",
            "My age was  15 5 years ago, I am now 20 years old\n",
            "My age was  15 5 years ago, I am now 20 years old\n"
          ]
        }
      ]
    },
    {
      "cell_type": "code",
      "source": [
        "print ('My age was {} 5 years ago, I am now {} years old'.format(age +5)"
      ],
      "metadata": {
        "id": "GpS43V04OnkH"
      },
      "execution_count": null,
      "outputs": []
    },
    {
      "cell_type": "code",
      "source": [
        "Age = input(\"what is your age?\")\n",
        "New_age = int(Age) + 5\n",
        "print (f\"My age was {Age} 5 years ago, I am now {str(New_age)} years old\")\n",
        "print (\"My age was \"+ str(Age) + \" 5 years ago, I am now \" +str(New_age) +\" years old\")\n",
        "print (f\"My age was {str(Age)} 5 years ago, I am now {str(int(Age) + 5)} years old\")"
      ],
      "metadata": {
        "colab": {
          "base_uri": "https://localhost:8080/"
        },
        "id": "MmuL0QVFO9CL",
        "outputId": "e04687e2-d7eb-4fa1-d185-d4a256614d05"
      },
      "execution_count": 13,
      "outputs": [
        {
          "output_type": "stream",
          "name": "stdout",
          "text": [
            "what is your age? 83\n",
            "My age was  83 5 years ago, I am now 88 years old\n",
            "My age was  83 5 years ago, I am now 88 years old\n",
            "My age was  83 5 years ago, I am now 88 years old\n"
          ]
        }
      ]
    },
    {
      "cell_type": "code",
      "source": [
        "def calculate_time_left(current_age):\n",
        "    # Assuming a lifespan of 90 years\n",
        "    lifespan = 90\n",
        "\n",
        "    # Calculate remaining years, months, and days\n",
        "    remaining_years = lifespan - current_age\n",
        "    remaining_months = remaining_years * 12\n",
        "    remaining_days = remaining_years * 365\n",
        "\n",
        "    # Calculate weeks (approximate)\n",
        "    remaining_weeks = remaining_years * 52\n",
        "\n",
        "    # Construct the output message\n",
        "    output_message = f\"You have {remaining_days} days, {remaining_weeks} weeks, and {remaining_months} months left.\"\n",
        "\n",
        "    return output_message\n",
        "\n",
        "# Example usage\n",
        "user_age = int(input(\"Enter your current age: \"))\n",
        "result = calculate_time_left(user_age)\n",
        "print(result)"
      ],
      "metadata": {
        "colab": {
          "base_uri": "https://localhost:8080/"
        },
        "id": "I12Rf7NTWi4e",
        "outputId": "0ff2ac6a-1888-41a6-a07e-936f8d0a25c8"
      },
      "execution_count": 21,
      "outputs": [
        {
          "output_type": "stream",
          "name": "stdout",
          "text": [
            "Enter your current age:  56\n",
            "You have 12410 days, 1768 weeks, and 408 months left.\n"
          ]
        }
      ]
    },
    {
      "cell_type": "code",
      "source": [
        "def calculate_time_left(current_age):\n",
        "    # Assuming a lifespan of 87 years\n",
        "    lifespan = 87\n",
        "\n",
        "    # Calculate remaining years, months, and days\n",
        "    remaining_years = lifespan - current_age\n",
        "    remaining_months = remaining_years * 12\n",
        "    remaining_days = remaining_years * 365\n",
        "\n",
        "    # Calculate weeks (approximate)\n",
        "    remaining_weeks = remaining_years * 52\n",
        "\n",
        "    # Construct the output message\n",
        "    output_message = f\"You have {remaining_days} days, {remaining_weeks} weeks, and {remaining_months} months left.\"\n",
        "\n",
        "    return output_message\n",
        "\n",
        "# Example usage\n",
        "user_age = int(input(\"Enter your current age: \"))\n",
        "result = calculate_time_left(user_age)\n",
        "print(result)"
      ],
      "metadata": {
        "colab": {
          "base_uri": "https://localhost:8080/"
        },
        "id": "vLoW_zbGdggm",
        "outputId": "13b23e7f-b83a-427c-9b73-b678952b1a70"
      },
      "execution_count": 22,
      "outputs": [
        {
          "output_type": "stream",
          "name": "stdout",
          "text": [
            "Enter your current age:  25\n",
            "You have 22630 days, 3224 weeks, and 744 months left.\n"
          ]
        }
      ]
    },
    {
      "cell_type": "code",
      "source": [],
      "metadata": {
        "id": "Cfw56MERf05q"
      },
      "execution_count": null,
      "outputs": []
    }
  ]
}